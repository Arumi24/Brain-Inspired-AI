{
 "cells": [
  {
   "cell_type": "code",
   "execution_count": 1,
   "metadata": {},
   "outputs": [],
   "source": [
    "import numpy as np\n",
    "import random\n",
    "import matplotlib.pyplot as plt\n",
    "import pickle, gzip, urllib.request, json\n",
    "import math\n",
    "import time"
   ]
  },
  {
   "cell_type": "code",
   "execution_count": 2,
   "metadata": {},
   "outputs": [],
   "source": [
    "#To ensure reproducibility\n",
    "random.seed(11)\n",
    "np.random.seed(11)"
   ]
  },
  {
   "cell_type": "code",
   "execution_count": 3,
   "metadata": {},
   "outputs": [
    {
     "name": "stdout",
     "output_type": "stream",
     "text": [
      "(50000, 784)\n",
      "(50000,)\n",
      "(10000, 784)\n",
      "(10000,)\n"
     ]
    }
   ],
   "source": [
    "# Load the dataset\n",
    "urllib.request.urlretrieve(\"http://deeplearning.net/data/mnist/mnist.pkl.gz\", \"mnist.pkl.gz\")\n",
    "with gzip.open('mnist.pkl.gz', 'rb') as f:\n",
    "    train_set, valid_set, test_set = pickle.load(f, encoding='latin1')\n",
    "    \n",
    "train_images = train_set[0]\n",
    "train_labels = train_set[1]\n",
    "\n",
    "test_images = test_set[0]\n",
    "test_labels = test_set[1]\n",
    "\n",
    "# Check that we have the expected shape of arrays, should be (50000, 784), (50000,), (10000, 784), (10000,)\n",
    "print(train_images.shape)\n",
    "print(train_labels.shape)\n",
    "\n",
    "print(test_images.shape)\n",
    "print(test_labels.shape)"
   ]
  },
  {
   "cell_type": "code",
   "execution_count": 4,
   "metadata": {},
   "outputs": [
    {
     "name": "stdout",
     "output_type": "stream",
     "text": [
      "784\n",
      "[0.         0.         0.         0.         0.         0.\n",
      " 0.         0.         0.         0.         0.         0.\n",
      " 0.         0.         0.         0.         0.         0.\n",
      " 0.         0.         0.         0.         0.         0.\n",
      " 0.         0.         0.         0.         0.         0.\n",
      " 0.         0.         0.         0.         0.         0.\n",
      " 0.         0.         0.         0.         0.         0.\n",
      " 0.         0.         0.         0.         0.         0.\n",
      " 0.         0.         0.         0.         0.         0.\n",
      " 0.         0.         0.         0.         0.         0.\n",
      " 0.         0.         0.         0.         0.         0.\n",
      " 0.         0.         0.         0.         0.         0.\n",
      " 0.         0.         0.         0.         0.         0.\n",
      " 0.         0.         0.         0.         0.         0.\n",
      " 0.         0.         0.         0.         0.         0.\n",
      " 0.         0.         0.         0.         0.         0.\n",
      " 0.         0.         0.         0.         0.         0.\n",
      " 0.         0.         0.         0.         0.         0.\n",
      " 0.         0.         0.         0.         0.         0.\n",
      " 0.         0.         0.         0.         0.         0.\n",
      " 0.         0.         0.         0.         0.         0.\n",
      " 0.         0.         0.         0.         0.         0.\n",
      " 0.         0.         0.         0.         0.         0.\n",
      " 0.         0.         0.         0.         0.         0.\n",
      " 0.         0.         0.         0.         0.         0.\n",
      " 0.         0.         0.01171875 0.0703125  0.0703125  0.0703125\n",
      " 0.4921875  0.53125    0.68359375 0.1015625  0.6484375  0.99609375\n",
      " 0.96484375 0.49609375 0.         0.         0.         0.\n",
      " 0.         0.         0.         0.         0.         0.\n",
      " 0.         0.         0.1171875  0.140625   0.3671875  0.6015625\n",
      " 0.6640625  0.98828125 0.98828125 0.98828125 0.98828125 0.98828125\n",
      " 0.87890625 0.671875   0.98828125 0.9453125  0.76171875 0.25\n",
      " 0.         0.         0.         0.         0.         0.\n",
      " 0.         0.         0.         0.         0.         0.19140625\n",
      " 0.9296875  0.98828125 0.98828125 0.98828125 0.98828125 0.98828125\n",
      " 0.98828125 0.98828125 0.98828125 0.98046875 0.36328125 0.3203125\n",
      " 0.3203125  0.21875    0.15234375 0.         0.         0.\n",
      " 0.         0.         0.         0.         0.         0.\n",
      " 0.         0.         0.         0.0703125  0.85546875 0.98828125\n",
      " 0.98828125 0.98828125 0.98828125 0.98828125 0.7734375  0.7109375\n",
      " 0.96484375 0.94140625 0.         0.         0.         0.\n",
      " 0.         0.         0.         0.         0.         0.\n",
      " 0.         0.         0.         0.         0.         0.\n",
      " 0.         0.         0.3125     0.609375   0.41796875 0.98828125\n",
      " 0.98828125 0.80078125 0.04296875 0.         0.16796875 0.6015625\n",
      " 0.         0.         0.         0.         0.         0.\n",
      " 0.         0.         0.         0.         0.         0.\n",
      " 0.         0.         0.         0.         0.         0.\n",
      " 0.         0.0546875  0.00390625 0.6015625  0.98828125 0.3515625\n",
      " 0.         0.         0.         0.         0.         0.\n",
      " 0.         0.         0.         0.         0.         0.\n",
      " 0.         0.         0.         0.         0.         0.\n",
      " 0.         0.         0.         0.         0.         0.\n",
      " 0.         0.54296875 0.98828125 0.7421875  0.0078125  0.\n",
      " 0.         0.         0.         0.         0.         0.\n",
      " 0.         0.         0.         0.         0.         0.\n",
      " 0.         0.         0.         0.         0.         0.\n",
      " 0.         0.         0.         0.         0.         0.04296875\n",
      " 0.7421875  0.98828125 0.2734375  0.         0.         0.\n",
      " 0.         0.         0.         0.         0.         0.\n",
      " 0.         0.         0.         0.         0.         0.\n",
      " 0.         0.         0.         0.         0.         0.\n",
      " 0.         0.         0.         0.         0.13671875 0.94140625\n",
      " 0.87890625 0.625      0.421875   0.00390625 0.         0.\n",
      " 0.         0.         0.         0.         0.         0.\n",
      " 0.         0.         0.         0.         0.         0.\n",
      " 0.         0.         0.         0.         0.         0.\n",
      " 0.         0.         0.         0.31640625 0.9375     0.98828125\n",
      " 0.98828125 0.46484375 0.09765625 0.         0.         0.\n",
      " 0.         0.         0.         0.         0.         0.\n",
      " 0.         0.         0.         0.         0.         0.\n",
      " 0.         0.         0.         0.         0.         0.\n",
      " 0.         0.         0.17578125 0.7265625  0.98828125 0.98828125\n",
      " 0.5859375  0.10546875 0.         0.         0.         0.\n",
      " 0.         0.         0.         0.         0.         0.\n",
      " 0.         0.         0.         0.         0.         0.\n",
      " 0.         0.         0.         0.         0.         0.\n",
      " 0.         0.0625     0.36328125 0.984375   0.98828125 0.73046875\n",
      " 0.         0.         0.         0.         0.         0.\n",
      " 0.         0.         0.         0.         0.         0.\n",
      " 0.         0.         0.         0.         0.         0.\n",
      " 0.         0.         0.         0.         0.         0.\n",
      " 0.         0.97265625 0.98828125 0.97265625 0.25       0.\n",
      " 0.         0.         0.         0.         0.         0.\n",
      " 0.         0.         0.         0.         0.         0.\n",
      " 0.         0.         0.         0.         0.         0.\n",
      " 0.         0.         0.1796875  0.5078125  0.71484375 0.98828125\n",
      " 0.98828125 0.80859375 0.0078125  0.         0.         0.\n",
      " 0.         0.         0.         0.         0.         0.\n",
      " 0.         0.         0.         0.         0.         0.\n",
      " 0.         0.         0.         0.         0.15234375 0.578125\n",
      " 0.89453125 0.98828125 0.98828125 0.98828125 0.9765625  0.7109375\n",
      " 0.         0.         0.         0.         0.         0.\n",
      " 0.         0.         0.         0.         0.         0.\n",
      " 0.         0.         0.         0.         0.         0.\n",
      " 0.09375    0.4453125  0.86328125 0.98828125 0.98828125 0.98828125\n",
      " 0.98828125 0.78515625 0.3046875  0.         0.         0.\n",
      " 0.         0.         0.         0.         0.         0.\n",
      " 0.         0.         0.         0.         0.         0.\n",
      " 0.         0.         0.08984375 0.2578125  0.83203125 0.98828125\n",
      " 0.98828125 0.98828125 0.98828125 0.7734375  0.31640625 0.0078125\n",
      " 0.         0.         0.         0.         0.         0.\n",
      " 0.         0.         0.         0.         0.         0.\n",
      " 0.         0.         0.         0.         0.0703125  0.66796875\n",
      " 0.85546875 0.98828125 0.98828125 0.98828125 0.98828125 0.76171875\n",
      " 0.3125     0.03515625 0.         0.         0.         0.\n",
      " 0.         0.         0.         0.         0.         0.\n",
      " 0.         0.         0.         0.         0.         0.\n",
      " 0.21484375 0.671875   0.8828125  0.98828125 0.98828125 0.98828125\n",
      " 0.98828125 0.953125   0.51953125 0.04296875 0.         0.\n",
      " 0.         0.         0.         0.         0.         0.\n",
      " 0.         0.         0.         0.         0.         0.\n",
      " 0.         0.         0.         0.         0.53125    0.98828125\n",
      " 0.98828125 0.98828125 0.828125   0.52734375 0.515625   0.0625\n",
      " 0.         0.         0.         0.         0.         0.\n",
      " 0.         0.         0.         0.         0.         0.\n",
      " 0.         0.         0.         0.         0.         0.\n",
      " 0.         0.         0.         0.         0.         0.\n",
      " 0.         0.         0.         0.         0.         0.\n",
      " 0.         0.         0.         0.         0.         0.\n",
      " 0.         0.         0.         0.         0.         0.\n",
      " 0.         0.         0.         0.         0.         0.\n",
      " 0.         0.         0.         0.         0.         0.\n",
      " 0.         0.         0.         0.         0.         0.\n",
      " 0.         0.         0.         0.         0.         0.\n",
      " 0.         0.         0.         0.         0.         0.\n",
      " 0.         0.         0.         0.         0.         0.\n",
      " 0.         0.         0.         0.         0.         0.\n",
      " 0.         0.         0.         0.         0.         0.\n",
      " 0.         0.         0.         0.         0.         0.\n",
      " 0.         0.         0.         0.        ]\n",
      "28\n",
      "5\n"
     ]
    },
    {
     "data": {
      "image/png": "[encoded data removed]",
      "text/plain": [
       "<Figure size 432x288 with 1 Axes>"
      ]
     },
     "metadata": {
      "needs_background": "light"
     },
     "output_type": "display_data"
    },
    {
     "name": "stdout",
     "output_type": "stream",
     "text": [
      "784\n",
      "(784,)\n",
      "28\n",
      "(28, 28)\n"
     ]
    }
   ],
   "source": [
    "#Plot the first training image and label\n",
    "train_sample1 = train_images[0,:]\n",
    "\n",
    "print(len(train_sample1))\n",
    "\n",
    "print((train_sample1))\n",
    "\n",
    "train_sample1 = train_sample1.reshape((28, 28))\n",
    "\n",
    "label = train_labels[100]\n",
    "\n",
    "\n",
    "\n",
    "print(len(train_sample1))\n",
    "print(label)\n",
    "\n",
    "\n",
    "plt.title('Label is {label}'.format(label=label))\n",
    "plt.imshow(train_sample1, cmap='gray')\n",
    "plt.show()\n",
    "\n",
    "\n",
    "train_sample1 = train_sample1.reshape((784,))\n",
    "print(len(train_sample1))\n",
    "print((train_sample1.shape))\n",
    "\n",
    "weights = np.random.rand(28,28)\n",
    "\n",
    "print(len(weights[0]))\n",
    "print(weights.shape)\n",
    "\n",
    "\n",
    "\n"
   ]
  },
  {
   "cell_type": "code",
   "execution_count": 7,
   "metadata": {},
   "outputs": [],
   "source": [
    "\n",
    "class boltzmann_machine(object):\n",
    "    \"\"\"\n",
    "    Define a class for a boltzmann machine here.\n",
    "    You must also define the functions below, but you can add additional arguments, etc.\n",
    "    Also, note that you are welcome to write your own helper functions. \n",
    "    Reminder: you should use numpy functions for vector and matrix operations. No autograd!\n",
    "    \"\"\"\n",
    "    \n",
    "\n",
    "    # The initialization function for the boltzmann machine\n",
    "    \n",
    "    #Variables used for initialization are:\n",
    "    #1. Number of Hidden Units\n",
    "    #2. Number of Visible Units\n",
    "    #3. Weight Matrix\n",
    "    #4. Learning Rate\n",
    "    #5. Annealing Schedule\n",
    "    #6. Training Data\n",
    "    \n",
    "    def __init__(self, hidden, visible ,annealing, learning_rate, training):\n",
    "        \n",
    "        self.visible=np.random.randint(2, size=(visible))\n",
    "    \n",
    "        self.hidden=np.random.randint(2, size=hidden)\n",
    "\n",
    "        self.units=np.concatenate((self.hidden, self.visible), axis=0)\n",
    "\n",
    "        self.weights=np.empty(shape=(len(self.hidden),len(self.units)))\n",
    "        self.weights[:] = np.nan\n",
    "        \n",
    "        self.threshold=0\n",
    "        \n",
    "        self.annealing=annealing\n",
    "        \n",
    "        self.T=1\n",
    "        \n",
    "        self.learning_rate=learning_rate\n",
    "        \n",
    "        self.training=training\n",
    "\n",
    "\n",
    "    # method used to initialize weights to a random configuration, weight matrix is |H| by |H+V| with values \n",
    "    # with mean 0 and sd 1\n",
    "    def intializeWeights(self):\n",
    "        \n",
    "        for i in range(len(self.hidden)):\n",
    "            for j in range(i+1,len(self.units)):\n",
    "                self.weights[i][j]=np.random.normal(0,1)\n",
    "                \n",
    "\n",
    "\n",
    "    # methods to initialize co-activation matrix for Awake phase and Dream Phase of the Boltzmann Machine\n",
    "    def intialize_P_awake(self):\n",
    "        \n",
    "        for i in range(len(self.hidden)):\n",
    "            for j in range(i+1,len(self.units)):\n",
    "                self.P_awake[i][j]=0\n",
    "        \n",
    "    def intialize_P_dream(self):\n",
    "        \n",
    "        for i in range(len(self.hidden)):\n",
    "            for j in range(i+1,len(self.units)):\n",
    "                self.P_dream[i][j]=0\n",
    "            \n",
    "    # sigmoid function to squish values between 0 and 1(used for neuron activation)\n",
    "    def sigmoid(self,x):     \n",
    "        return (1/(1+math.exp(-x)))\n",
    "              \n",
    "\n",
    "\n",
    "    # method that calculates the probability value for a given neuron(specified by input) to be on or off\n",
    "    # the method either activates hidden or visible unit\n",
    "    def activateNeuron(self,neuron):\n",
    "        summation=0\n",
    "        neuronNumber=neuron\n",
    "        \n",
    "        if neuron<=(len(self.hidden)):\n",
    "            neuron=neuron-1\n",
    "            \n",
    "            for i in range(0,neuron):\n",
    "                summation=summation+(self.weights[i][neuron]*self.units[i])           \n",
    "            neuron=neuron+1\n",
    "        \n",
    "            for j in range(neuron,len(self.units)):\n",
    "                summation=summation+(self.weights[neuron-1][j]*self.units[j])  \n",
    "        else:\n",
    "            \n",
    "            neuron=neuron          \n",
    "            for z in range(0,len(self.hidden)):\n",
    "                summation=summation+(self.units[z]*self.weights[z][neuron-1])\n",
    "          \n",
    "        probability=self.sigmoid(summation/self.T)  \n",
    "        \n",
    "        if np.random.binomial(1, probability, 1)==1:\n",
    "            self.units[neuronNumber-1]=1\n",
    "        else:\n",
    "            self.units[neuronNumber-1]=0\n",
    "\n",
    "    \n",
    "    # The function for Gibbs sampling while clamped with specific image(Only hidden units are sampled)\n",
    "    # This corresponds to the Awake Phase P^+\n",
    "    # this function is also used to calculate the expectated value of the Awake Phase for weight updated\n",
    "    def gibbs_clamped(self,i,expectation=False):\n",
    "       \n",
    "        # if expectation is true this will calculate the expectation of the Awake Phase as it is running Gibbs \n",
    "        if expectation==True:\n",
    "            self.units=np.concatenate((np.random.randint(2, size=len(self.hidden)), self.training[i,:]), axis=0)\n",
    "            \n",
    "            #300 samples will be made for hidden units of 25\n",
    "            for i in range(300):\n",
    "                self.activateNeuron(random.randint(1,len(self.hidden)))\n",
    "                self.P_awake=self.P_awake+(np.outer(self.units,self.units)[0:len(self.hidden)])\n",
    "            self.P_awake=self.P_awake/300\n",
    "            \n",
    "        else:  \n",
    "            self.units=np.concatenate((np.random.randint(2, size=len(self.hidden)), self.training[i,:]), axis=0)\n",
    "            for i in range(300):\n",
    "                self.activateNeuron(random.randint(1,len(self.hidden)))\n",
    "            \n",
    "\n",
    "    \n",
    "    # The function for Gibbs sampling with no clamped image(Both Hidden Units and Visible Units are sampled)\n",
    "    # This corresponds to the Dream Phase P^-\n",
    "    # this function is also used to calculate the expectated value of the Dream Phase for weight updated\n",
    "    def gibbs_unclamped(self,expectation=False):\n",
    "        \n",
    "         # if expectation is true this will calculate the expectation of the Dream Phase as it is running Gibbs \n",
    "        if expectation==True:\n",
    "            self.units=np.concatenate((np.random.randint(2, size=len(self.hidden)),\n",
    "                                    np.random.randint(2, size=len(self.visible))), axis=0)\n",
    "            \n",
    "            #3000 samples will be made for |H+V| units of 784+25 units\n",
    "            for i in range(3000):\n",
    "                self.activateNeuron(random.randint(1,len(self.units)))\n",
    "                self.P_dream=self.P_dream+(np.outer(self.units,self.units)[0:len(self.hidden)])\n",
    "            self.P_dream=self.P_dream/3000\n",
    "                \n",
    "        else:\n",
    "            self.units=np.concatenate((np.random.randint(2, size=len(self.hidden)),\n",
    "                                    np.random.randint(2, size=len(self.visible))), axis=0)\n",
    "            for i in range(3000):\n",
    "                self.activateNeuron(random.randint(1,len(self.units)))\n",
    "                \n",
    "        \n",
    "    \n",
    "    # The function for training the boltzmann machine\n",
    "    def train(self, numOfImages):\n",
    "        \n",
    "        # Awake and Dream expectations for update\n",
    "        self.P_awake=np.empty(shape=(len(self.hidden),len(self.units)))\n",
    "        self.P_awake[:] = np.nan\n",
    "            \n",
    "        self.P_dream=np.empty(shape=(len(self.hidden),len(self.units)))\n",
    "        self.P_dream[:] = np.nan\n",
    "        \n",
    "        \n",
    "        # For 100 weight update iterations\n",
    "        for z in range(100):\n",
    "            if z%10==0:\n",
    "                print(z)\n",
    "            \n",
    "            #Initialize Awake and Dream expectations for each update\n",
    "            self.intialize_P_awake()\n",
    "            self.intialize_P_dream()\n",
    "                       \n",
    "            \n",
    "            #********************Awake Phase(Clamped)**************************\n",
    "            \n",
    "            # For a given amount of training images\n",
    "            for i in range(numOfImages):\n",
    "                \n",
    "                # Choose random training image\n",
    "                image=random.randint(1,len(self.training))\n",
    "                \n",
    "                # For the Annealing Schedule run Gibbs Sampling on the given image\n",
    "                for j in self.annealing:\n",
    "                    self.T=j\n",
    "                    self.gibbs_clamped(image)\n",
    "                \n",
    "                # For the Annealing Schedule run Sampling & Collect Expectation of the Awake Phase on the given image\n",
    "                for j in self.annealing:\n",
    "                    self.T=j\n",
    "                    self.gibbs_clamped(image,expectation=True)     \n",
    "             \n",
    "            # Update Awake Phase expectation\n",
    "            self.P_awake=self.P_awake/(numOfImages*len(self.annealing))\n",
    "            \n",
    "            \n",
    "            \n",
    "            \n",
    "            #********************Dream Phase(NonClamped)*************************\n",
    "            \n",
    "            # For the Annealing Schedule run Gibbs Sampling on whole Boltzmann Machine System\n",
    "            for j in self.annealing:\n",
    "                self.T=j\n",
    "                self.gibbs_unclamped()\n",
    "            \n",
    "            # For the Annealing Schedule run Sampling & Collect Expectation on whole Boltzmann Machine's Dream Phase\n",
    "            for j in self.annealing:\n",
    "                self.T=j\n",
    "                self.gibbs_unclamped(expectation=True)\n",
    "            \n",
    "            # Update Dream Phase expectation\n",
    "            self.P_dream=self.P_dream/(len(self.annealing))\n",
    "            \n",
    "            \n",
    "            \n",
    "            #***************Weight Update******************************************\n",
    "            \n",
    "            #Calculate Weight Update\n",
    "            weightUpdate=(self.P_awake-self.P_dream)/self.learning_rate\n",
    "        \n",
    "            #Update Weights\n",
    "            self.weights=self.weights+weightUpdate\n",
    "                      \n",
    "    \n",
    "    \n",
    "    # The function for testing the boltzmann machine\n",
    "    # Given a specific image, I clamp it and run gibbs sampling\n",
    "    # Then i sample without the image and output what the system \"Dreams\" to see if it is similar\n",
    "    def test(self,test_image):\n",
    "        \n",
    "        boltzmann_machine.gibbs_clamped(test_image)\n",
    "        boltzmann_machine.gibbs_unclamped()\n",
    "        show=(boltzmann_machine.units[25:809]).reshape((28, 28))\n",
    "        plt.imshow(show, cmap='gray')\n",
    "        plt.show()\n",
    "        \n",
    "        \n",
    "\n"
   ]
  },
  {
   "cell_type": "code",
   "execution_count": 8,
   "metadata": {},
   "outputs": [
    {
     "data": {
      "image/png": "[encoded data removed]",
      "text/plain": [
       "<Figure size 432x288 with 1 Axes>"
      ]
     },
     "metadata": {
      "needs_background": "light"
     },
     "output_type": "display_data"
    }
   ],
   "source": [
    "# Create a Boltzmann machine & Plot generated images from your Boltzmann machine running freely (no clamping)\n",
    "\n",
    "boltzmann_machine=boltzmann_machine(25,784,np.array([100,10,10,1]),5,train_images)\n",
    "boltzmann_machine.intializeWeights()\n",
    "\n",
    "\n",
    "boltzmann_machine.gibbs_unclamped()\n",
    "show=(boltzmann_machine.units[25:809]).reshape((28, 28))\n",
    "plt.imshow(show, cmap='gray')\n",
    "plt.show()"
   ]
  },
  {
   "cell_type": "code",
   "execution_count": 9,
   "metadata": {},
   "outputs": [
    {
     "name": "stdout",
     "output_type": "stream",
     "text": [
      "0\n",
      "10\n",
      "20\n",
      "30\n",
      "40\n",
      "50\n",
      "60\n",
      "70\n",
      "80\n",
      "90\n"
     ]
    }
   ],
   "source": [
    "#Train Boltzmann Machine \n",
    "boltzmann_machine.train(1)\n"
   ]
  },
  {
   "cell_type": "code",
   "execution_count": 21,
   "metadata": {},
   "outputs": [
    {
     "data": {
      "image/png": "[encoded data removed]",
      "text/plain": [
       "<Figure size 432x288 with 1 Axes>"
      ]
     },
     "metadata": {
      "needs_background": "light"
     },
     "output_type": "display_data"
    }
   ],
   "source": [
    "# Plot generated images from your Boltzmann machine running freely after training (no clamping)\n",
    "boltzmann_machine.gibbs_unclamped()\n",
    "show=(boltzmann_machine.units[25:809]).reshape((28, 28))\n",
    "plt.imshow(show, cmap='gray')\n",
    "plt.show()"
   ]
  },
  {
   "cell_type": "code",
   "execution_count": 12,
   "metadata": {},
   "outputs": [
    {
     "data": {
      "image/png": "[encoded data removed]",
      "text/plain": [
       "<Figure size 432x288 with 1 Axes>"
      ]
     },
     "metadata": {
      "needs_background": "light"
     },
     "output_type": "display_data"
    }
   ],
   "source": [
    "# Test Boltzmann Machine on Clamped images & view output\n",
    "boltzmann_machine.test(0)"
   ]
  },
  {
   "cell_type": "code",
   "execution_count": 13,
   "metadata": {},
   "outputs": [
    {
     "data": {
      "image/png": "[encoded data removed]",
      "text/plain": [
       "<Figure size 432x288 with 1 Axes>"
      ]
     },
     "metadata": {
      "needs_background": "light"
     },
     "output_type": "display_data"
    }
   ],
   "source": [
    "boltzmann_machine.test(1)"
   ]
  },
  {
   "cell_type": "code",
   "execution_count": 20,
   "metadata": {},
   "outputs": [
    {
     "data": {
      "image/png": "[encoded data removed]",
      "text/plain": [
       "<Figure size 432x288 with 1 Axes>"
      ]
     },
     "metadata": {
      "needs_background": "light"
     },
     "output_type": "display_data"
    }
   ],
   "source": [
    "boltzmann_machine.test(5)"
   ]
  }
 ],
 "metadata": {
  "kernelspec": {
   "display_name": "Python 3",
   "language": "python",
   "name": "python3"
  },
  "language_info": {
   "codemirror_mode": {
    "name": "ipython",
    "version": 3
   },
   "file_extension": ".py",
   "mimetype": "text/x-python",
   "name": "python",
   "nbconvert_exporter": "python",
   "pygments_lexer": "ipython3",
   "version": "3.6.0"
  }
 },
 "nbformat": 4,
 "nbformat_minor": 2
}
